{
  "nbformat": 4,
  "nbformat_minor": 0,
  "metadata": {
    "colab": {
      "provenance": [],
      "include_colab_link": true
    },
    "kernelspec": {
      "name": "python3",
      "display_name": "Python 3"
    },
    "language_info": {
      "name": "python"
    }
  },
  "cells": [
    {
      "cell_type": "markdown",
      "metadata": {
        "id": "view-in-github",
        "colab_type": "text"
      },
      "source": [
        "<a href=\"https://colab.research.google.com/github/shivanigoyal629/WhisperToText/blob/main/Whisper_stt.ipynb\" target=\"_parent\"><img src=\"https://colab.research.google.com/assets/colab-badge.svg\" alt=\"Open In Colab\"/></a>"
      ]
    },
    {
      "cell_type": "markdown",
      "source": [
        "#Whisper Speech-to-text Converter"
      ],
      "metadata": {
        "id": "pppqxlOzVZi4"
      }
    },
    {
      "cell_type": "markdown",
      "source": [],
      "metadata": {
        "id": "jyVcDiNrYLjt"
      }
    },
    {
      "cell_type": "code",
      "source": [
        "!pip install git+https://github.com/openai/whisper.git\n",
        "import whisper\n",
        "model = whisper.load_model(\"base\")"
      ],
      "metadata": {
        "id": "2j3CiPhfVlDY"
      },
      "execution_count": null,
      "outputs": []
    },
    {
      "cell_type": "code",
      "source": [
        "# @title Default title text\n",
        "audio_file_path = input(\"Please provide the full path to the audio file: \")\n",
        "\n",
        "# If a file was selected, proceed with transcription\n",
        "if audio_file_path:\n",
        "  # Transcribe the audio\n",
        "  result = model.transcribe(audio_file_path)\n",
        "\n",
        "  # Print the transcribed text\n",
        "  print(\"\\n\",result[\"text\"])\n",
        "else:\n",
        "  print(\"No audio file selected.\")"
      ],
      "metadata": {
        "id": "ibpIjZReVr3s"
      },
      "execution_count": null,
      "outputs": []
    }
  ]
}